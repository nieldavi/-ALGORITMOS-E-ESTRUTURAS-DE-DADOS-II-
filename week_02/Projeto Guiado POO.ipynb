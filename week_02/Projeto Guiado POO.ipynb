{
 "cells": [
  {
   "cell_type": "markdown",
   "id": "1916e5e3",
   "metadata": {},
   "source": [
    "# Perfil de App Gratuitos na Play Story e na App Story"
   ]
  },
  {
   "cell_type": "markdown",
   "id": "820c8539",
   "metadata": {},
   "source": [
    "## Esse notebook é a adaptação do projeto guiado do site Dataquest. A principal tarefa aqui é a passagem dos códigos para o paradgma de programação POO "
   ]
  },
  {
   "cell_type": "markdown",
   "id": "fe080598",
   "metadata": {},
   "source": [
    "Esse projeto pretende-se encontrar o perfis de aplativos gratuitos nas lojas das Play Story e da App Story que sejam  rentáveis para uma empresa. Essa empresa desenvolve aplicativo gratuitos e sua principal fonte de receitas é as visualizações de anuncios que são mostrados no aplicativos."
   ]
  },
  {
   "cell_type": "markdown",
   "id": "deb79663",
   "metadata": {},
   "source": [
    "Portanto, nosso objetivo desse projeto, é analisar os dados disponiveis e extrair informações a respeito dos habitos dos usários para ajudar os desenvolvedores a traçar estrategias que atraiam o maior número de usários possível."
   ]
  },
  {
   "cell_type": "markdown",
   "id": "bbfc397b",
   "metadata": {},
   "source": [
    "## Abrindo nossa base da dados"
   ]
  },
  {
   "cell_type": "markdown",
   "id": "c1b47ff2",
   "metadata": {},
   "source": [
    "Usaremos duas aquivos para fazer essa analis. Um arquivo contendo os dados da loja da Play store e outro arquivo da loja da Apple Stores.  Os dois arquivos estão disponíveis nos links a baixo:\n",
    " * [DataSet Play Story](https://www.kaggle.com/datasets/lava18/google-play-store-apps)\n",
    " * [DataSet Apple Story](https://www.kaggle.com/datasets/ramamet4/app-store-apple-data-set-10k-apps)"
   ]
  },
  {
   "cell_type": "code",
   "execution_count": 119,
   "id": "92306756",
   "metadata": {},
   "outputs": [],
   "source": [
    "from csv import reader # importação das bibliotecas  utilizadas "
   ]
  },
  {
   "cell_type": "code",
   "execution_count": 120,
   "id": "408ff078",
   "metadata": {},
   "outputs": [],
   "source": [
    "class DataSet():\n",
    "    def __init__(self, file):\n",
    "        '''Essa é a função construtora da classe data set.\n",
    "            Essa função inicializa o data set transforma em uma lista de lista\n",
    "        '''\n",
    "        open_file = open(file)\n",
    "        read_file = reader(open_file)\n",
    "        dataSet = list(read_file)\n",
    "        self.dataSet_header = dataSet[0:1]\n",
    "        self.dataSet = dataSet[1:] \n",
    "  \n",
    "    def explore_data(self, start, end, rows_and_columns=False):\n",
    "        ''' Essa Função explora o conjunto de dataSet.'''\n",
    "        dataset_slice = self.dataSet[start:end]\n",
    "        for row in dataset_slice:\n",
    "            print(row)\n",
    "            print('\\n')\n",
    "        if rows_and_columns:\n",
    "            print('Numero de linhas:', len(self.dataSet))\n",
    "            print('Number de colunas:', len(self.dataSet[0]))\n",
    "            \n",
    "    def deletar_linha(self, index):\n",
    "        # Função para teletar uma linha \n",
    "        del self.dataSet[index] \n",
    "                \n",
    "    def delete_data_duplicado(self):\n",
    "        '''Essa função deleta dados duplicados do conjunto de dados'''\n",
    "        \n",
    "        duplicados_apps = []\n",
    "        unico_apps = []\n",
    "        \n",
    "        #bloco de código responsável por verificar a quantidade de duplicatas no dataset\n",
    "        for app in self.dataSet:\n",
    "            name = app[0]\n",
    "            if name in unico_apps:\n",
    "                duplicados_apps.append(name)\n",
    "            else:\n",
    "                unico_apps.append(name)\n",
    "            \n",
    "        duplicados = len(duplicados_apps)\n",
    "        print(duplicados)\n",
    "        \n",
    "        \n",
    "        #bloco de código responsável por verificar a quantidade de app existem no dataset sem duplicatas\n",
    "        avaliacao_max = {}\n",
    "\n",
    "        for app in self.dataSet:\n",
    "            name = app[0]\n",
    "            n_avaliacao = float(app[3])\n",
    "\n",
    "            if name in avaliacao_max and avaliacao_max[name] < n_avaliacao:\n",
    "                avaliacao_max[name] = n_avaliacao\n",
    "\n",
    "            elif name not in avaliacao_max:\n",
    "                avaliacao_max[name] = n_avaliacao        \n",
    "        \n",
    "        \n",
    "        #bloco de código responsável limpar o data set deixando apenas entradas unicas \n",
    "        dataSet_clean = []\n",
    "        adicionado = []\n",
    "\n",
    "        for app in self.dataSet:\n",
    "            name = app[0]\n",
    "            n_avaliacao = float(app[3])\n",
    "\n",
    "            if (avaliacao_max[name] == n_avaliacao) and (name not in adicionado):\n",
    "                dataSet_clean.append(app)\n",
    "                adicionado.append(name) \n",
    "                \n",
    "        self.dataSet = dataSet_clean\n",
    "                \n",
    "        print('O número de aplicativos duplicados é:', duplicados)\n",
    "        print('O tamanho do dataSet apos a limpeza é  ', len(self.dataSet))\n",
    "    \n",
    "    def eh_english(self, string):\n",
    "        '''Função que verifica se um app é ou não ingles '''\n",
    "        non_ascii = 0\n",
    "        for character in string:\n",
    "            if ord(character) > 127:\n",
    "                non_ascii += 1\n",
    "\n",
    "        if non_ascii > 3:\n",
    "            return False\n",
    "        else:\n",
    "            return True\n",
    "\n",
    "    \n",
    "    def filtro_app_english(self, index):\n",
    "        '''Filtro para limpar os app que não são da lingua inglisa'''\n",
    "        app_english = []\n",
    "        for app in self.dataSet:\n",
    "            name = app[index]\n",
    "            if self.eh_english(name):\n",
    "                app_english.append(app)\n",
    "        self.dataSet = app_english\n",
    "        \n",
    "    def filtro_app_free(self,index):\n",
    "        '''Filtro para limpar os app que não são grátis '''\n",
    "        dataSet_app_free = []\n",
    "        for app in self.dataSet:\n",
    "            price = app[index]\n",
    "            if price == '0' or price == '0.0':\n",
    "                dataSet_app_free.append(app)\n",
    "        self.dataSet = dataSet_app_free\n",
    "\n",
    "        \n",
    "    def freq_table(self, index):\n",
    "        '''Função responsável por calcular frequência de uma variável a parte de uma index informado'''\n",
    "        table = {}\n",
    "        total = 0\n",
    "\n",
    "        for row in self.dataSet:\n",
    "            total += 1\n",
    "            value = row[index]\n",
    "            if value in table:\n",
    "                table[value] += 1\n",
    "            else:\n",
    "                table[value] = 1\n",
    "\n",
    "        table_percentages = {}\n",
    "        for key in table:\n",
    "            percentage = (table[key] / total) * 100\n",
    "            table_percentages[key] = percentage \n",
    "\n",
    "        return table_percentages\n",
    "    \n",
    "    def display_table(self, index):\n",
    "        '''Função responsável por exibir a frequencia de uma variável '''\n",
    "        table = self.freq_table(index)\n",
    "        table_display = []\n",
    "        for key in table:\n",
    "            key_val_as_tuple = (table[key], key)\n",
    "            table_display.append(key_val_as_tuple)\n",
    "\n",
    "        table_sorted = sorted(table_display, reverse = True)\n",
    "        for entry in table_sorted:\n",
    "            print(entry[1], ':', entry[0])"
   ]
  },
  {
   "cell_type": "code",
   "execution_count": 121,
   "id": "d9e9df91",
   "metadata": {},
   "outputs": [
    {
     "name": "stdout",
     "output_type": "stream",
     "text": [
      "['Photo Editor & Candy Camera & Grid & ScrapBook', 'ART_AND_DESIGN', '4.1', '159', '19M', '10,000+', 'Free', '0', 'Everyone', 'Art & Design', 'January 7, 2018', '1.0.0', '4.0.3 and up']\n",
      "\n",
      "\n",
      "['Coloring book moana', 'ART_AND_DESIGN', '3.9', '967', '14M', '500,000+', 'Free', '0', 'Everyone', 'Art & Design;Pretend Play', 'January 15, 2018', '2.0.0', '4.0.3 and up']\n",
      "\n",
      "\n",
      "Numero de linhas: 10841\n",
      "Number de colunas: 13\n",
      "[['App', 'Category', 'Rating', 'Reviews', 'Size', 'Installs', 'Type', 'Price', 'Content Rating', 'Genres', 'Last Updated', 'Current Ver', 'Android Ver']]\n",
      "1181\n",
      "O número de aplicativos duplicados é: 1181\n",
      "O tamanho do dataSet apos a limpeza é   9659\n",
      "oooooooo\n",
      "['Photo Editor & Candy Camera & Grid & ScrapBook', 'ART_AND_DESIGN', '4.1', '159', '19M', '10,000+', 'Free', '0', 'Everyone', 'Art & Design', 'January 7, 2018', '1.0.0', '4.0.3 and up']\n",
      "\n",
      "\n",
      "['U Launcher Lite – FREE Live Cool Themes, Hide Apps', 'ART_AND_DESIGN', '4.7', '87510', '8.7M', '5,000,000+', 'Free', '0', 'Everyone', 'Art & Design', 'August 1, 2018', '1.2.4', '4.0.3 and up']\n",
      "\n",
      "\n",
      "Numero de linhas: 9614\n",
      "Number de colunas: 13\n",
      "['Photo Editor & Candy Camera & Grid & ScrapBook', 'ART_AND_DESIGN', '4.1', '159', '19M', '10,000+', 'Free', '0', 'Everyone', 'Art & Design', 'January 7, 2018', '1.0.0', '4.0.3 and up']\n",
      "\n",
      "\n",
      "['U Launcher Lite – FREE Live Cool Themes, Hide Apps', 'ART_AND_DESIGN', '4.7', '87510', '8.7M', '5,000,000+', 'Free', '0', 'Everyone', 'Art & Design', 'August 1, 2018', '1.2.4', '4.0.3 and up']\n",
      "\n",
      "\n",
      "Numero de linhas: 8864\n",
      "Number de colunas: 13\n",
      "FAMILY : 18.907942238267147\n",
      "GAME : 9.724729241877256\n",
      "TOOLS : 8.461191335740072\n",
      "BUSINESS : 4.591606498194946\n",
      "LIFESTYLE : 3.9034296028880866\n",
      "PRODUCTIVITY : 3.892148014440433\n",
      "FINANCE : 3.7003610108303246\n",
      "MEDICAL : 3.531137184115524\n",
      "SPORTS : 3.395758122743682\n",
      "PERSONALIZATION : 3.3167870036101084\n",
      "COMMUNICATION : 3.2378158844765346\n",
      "HEALTH_AND_FITNESS : 3.0798736462093865\n",
      "PHOTOGRAPHY : 2.944494584837545\n",
      "NEWS_AND_MAGAZINES : 2.7978339350180503\n",
      "SOCIAL : 2.6624548736462095\n",
      "TRAVEL_AND_LOCAL : 2.33528880866426\n",
      "SHOPPING : 2.2450361010830324\n",
      "BOOKS_AND_REFERENCE : 2.1435018050541514\n",
      "DATING : 1.861462093862816\n",
      "VIDEO_PLAYERS : 1.7937725631768955\n",
      "MAPS_AND_NAVIGATION : 1.3989169675090252\n",
      "FOOD_AND_DRINK : 1.2409747292418771\n",
      "EDUCATION : 1.1620036101083033\n",
      "ENTERTAINMENT : 0.9589350180505415\n",
      "LIBRARIES_AND_DEMO : 0.9363718411552346\n",
      "AUTO_AND_VEHICLES : 0.9250902527075812\n",
      "HOUSE_AND_HOME : 0.8235559566787004\n",
      "WEATHER : 0.8009927797833934\n",
      "EVENTS : 0.7107400722021661\n",
      "PARENTING : 0.6543321299638989\n",
      "ART_AND_DESIGN : 0.6430505415162455\n",
      "COMICS : 0.6204873646209386\n",
      "BEAUTY : 0.5979241877256317\n"
     ]
    }
   ],
   "source": [
    "google = DataSet('googleplaystore.csv')\n",
    "google.explore_data(0, 2,True)\n",
    "print(google.dataSet_header)\n",
    "google.deletar_linha(10472)\n",
    "google.delete_data_duplicado()\n",
    "print('oooooooo')\n",
    "google.filtro_app_english(0)\n",
    "google.explore_data(0, 2,True)\n",
    "google.filtro_app_free(7)\n",
    "google.explore_data(0, 2,True)\n",
    "google.display_table(1)"
   ]
  },
  {
   "cell_type": "markdown",
   "id": "2641ceea",
   "metadata": {},
   "source": [
    "## Instaciando o data Set"
   ]
  },
  {
   "cell_type": "code",
   "execution_count": 122,
   "id": "80d540d7",
   "metadata": {},
   "outputs": [],
   "source": [
    "playStory = DataSet('googleplaystore.csv')\n",
    "appleStory = DataSet('AppleStore.csv')"
   ]
  },
  {
   "cell_type": "markdown",
   "id": "733afd53",
   "metadata": {},
   "source": [
    "Agora vamos explorar os dataSet"
   ]
  },
  {
   "cell_type": "code",
   "execution_count": 123,
   "id": "8292dbce",
   "metadata": {},
   "outputs": [
    {
     "name": "stdout",
     "output_type": "stream",
     "text": [
      "Aplicativos da Play Story :\n",
      "\n",
      "[['App', 'Category', 'Rating', 'Reviews', 'Size', 'Installs', 'Type', 'Price', 'Content Rating', 'Genres', 'Last Updated', 'Current Ver', 'Android Ver']]\n",
      "['Photo Editor & Candy Camera & Grid & ScrapBook', 'ART_AND_DESIGN', '4.1', '159', '19M', '10,000+', 'Free', '0', 'Everyone', 'Art & Design', 'January 7, 2018', '1.0.0', '4.0.3 and up']\n",
      "\n",
      "\n",
      "['Coloring book moana', 'ART_AND_DESIGN', '3.9', '967', '14M', '500,000+', 'Free', '0', 'Everyone', 'Art & Design;Pretend Play', 'January 15, 2018', '2.0.0', '4.0.3 and up']\n",
      "\n",
      "\n",
      "Numero de linhas: 10841\n",
      "Number de colunas: 13\n",
      "\n",
      "\n",
      "Aplicativos da Apple Story :\n",
      "\n",
      "['284882215', 'Facebook', '389879808', 'USD', '0.0', '2974676', '212', '3.5', '3.5', '95.0', '4+', 'Social Networking', '37', '1', '29', '1']\n",
      "\n",
      "\n",
      "['389801252', 'Instagram', '113954816', 'USD', '0.0', '2161558', '1289', '4.5', '4.0', '10.23', '12+', 'Photo & Video', '37', '0', '29', '1']\n",
      "\n",
      "\n",
      "Numero de linhas: 7197\n",
      "Number de colunas: 16\n"
     ]
    }
   ],
   "source": [
    "print('Aplicativos da Play Story :\\n') \n",
    "print(playStory.dataSet_header)\n",
    "playStory.explore_data(0, 2,True)\n",
    "print('\\n')\n",
    "print('Aplicativos da Apple Story :\\n') \n",
    "playStory.dataSet_header\n",
    "appleStory.explore_data(0, 2,True)"
   ]
  },
  {
   "cell_type": "markdown",
   "id": "b4fd0f34",
   "metadata": {},
   "source": [
    "## Excluindo dados errados"
   ]
  },
  {
   "cell_type": "markdown",
   "id": "c1331090",
   "metadata": {},
   "source": [
    "O data Set da playStory tem uma linha que aprenseta problema, vamos deletar ela!"
   ]
  },
  {
   "cell_type": "code",
   "execution_count": 124,
   "id": "123613f8",
   "metadata": {},
   "outputs": [],
   "source": [
    "playStory.deletar_linha(10472)"
   ]
  },
  {
   "cell_type": "markdown",
   "id": "63912eeb",
   "metadata": {},
   "source": [
    "## Removendo entradas duplicadas"
   ]
  },
  {
   "cell_type": "code",
   "execution_count": 125,
   "id": "212af590",
   "metadata": {},
   "outputs": [
    {
     "name": "stdout",
     "output_type": "stream",
     "text": [
      "1181\n",
      "O número de aplicativos duplicados é: 1181\n",
      "O tamanho do dataSet apos a limpeza é   9659\n"
     ]
    }
   ],
   "source": [
    "playStory.delete_data_duplicado()"
   ]
  },
  {
   "cell_type": "markdown",
   "id": "61c645c0",
   "metadata": {},
   "source": [
    "## Removendo aplicativos que não são em inglês"
   ]
  },
  {
   "cell_type": "code",
   "execution_count": 126,
   "id": "9d3ee2d3",
   "metadata": {},
   "outputs": [
    {
     "name": "stdout",
     "output_type": "stream",
     "text": [
      "['Photo Editor & Candy Camera & Grid & ScrapBook', 'ART_AND_DESIGN', '4.1', '159', '19M', '10,000+', 'Free', '0', 'Everyone', 'Art & Design', 'January 7, 2018', '1.0.0', '4.0.3 and up']\n",
      "\n",
      "\n",
      "['U Launcher Lite – FREE Live Cool Themes, Hide Apps', 'ART_AND_DESIGN', '4.7', '87510', '8.7M', '5,000,000+', 'Free', '0', 'Everyone', 'Art & Design', 'August 1, 2018', '1.2.4', '4.0.3 and up']\n",
      "\n",
      "\n",
      "Numero de linhas: 9614\n",
      "Number de colunas: 13\n"
     ]
    }
   ],
   "source": [
    "playStory.filtro_app_english(0)\n",
    "playStory.explore_data(0, 2,True)"
   ]
  },
  {
   "cell_type": "code",
   "execution_count": 127,
   "id": "767cf55e",
   "metadata": {},
   "outputs": [
    {
     "name": "stdout",
     "output_type": "stream",
     "text": [
      "['284882215', 'Facebook', '389879808', 'USD', '0.0', '2974676', '212', '3.5', '3.5', '95.0', '4+', 'Social Networking', '37', '1', '29', '1']\n",
      "\n",
      "\n",
      "['389801252', 'Instagram', '113954816', 'USD', '0.0', '2161558', '1289', '4.5', '4.0', '10.23', '12+', 'Photo & Video', '37', '0', '29', '1']\n",
      "\n",
      "\n",
      "Numero de linhas: 6183\n",
      "Number de colunas: 16\n"
     ]
    }
   ],
   "source": [
    "appleStory.filtro_app_english(1)\n",
    "appleStory.explore_data(0, 2,True)"
   ]
  },
  {
   "cell_type": "markdown",
   "id": "42d765ba",
   "metadata": {},
   "source": [
    "## Isolando os aplicativos gratuitos"
   ]
  },
  {
   "cell_type": "code",
   "execution_count": 128,
   "id": "c5fdcb81",
   "metadata": {},
   "outputs": [
    {
     "name": "stdout",
     "output_type": "stream",
     "text": [
      "['Photo Editor & Candy Camera & Grid & ScrapBook', 'ART_AND_DESIGN', '4.1', '159', '19M', '10,000+', 'Free', '0', 'Everyone', 'Art & Design', 'January 7, 2018', '1.0.0', '4.0.3 and up']\n",
      "\n",
      "\n",
      "['U Launcher Lite – FREE Live Cool Themes, Hide Apps', 'ART_AND_DESIGN', '4.7', '87510', '8.7M', '5,000,000+', 'Free', '0', 'Everyone', 'Art & Design', 'August 1, 2018', '1.2.4', '4.0.3 and up']\n",
      "\n",
      "\n",
      "Numero de linhas: 8864\n",
      "Number de colunas: 13\n"
     ]
    }
   ],
   "source": [
    "playStory.filtro_app_free(7)\n",
    "playStory.explore_data(0, 2,True)"
   ]
  },
  {
   "cell_type": "code",
   "execution_count": 129,
   "id": "d10e6683",
   "metadata": {},
   "outputs": [
    {
     "name": "stdout",
     "output_type": "stream",
     "text": [
      "['284882215', 'Facebook', '389879808', 'USD', '0.0', '2974676', '212', '3.5', '3.5', '95.0', '4+', 'Social Networking', '37', '1', '29', '1']\n",
      "\n",
      "\n",
      "['389801252', 'Instagram', '113954816', 'USD', '0.0', '2161558', '1289', '4.5', '4.0', '10.23', '12+', 'Photo & Video', '37', '0', '29', '1']\n",
      "\n",
      "\n",
      "Numero de linhas: 3222\n",
      "Number de colunas: 16\n"
     ]
    }
   ],
   "source": [
    "appleStory.filtro_app_free(4)\n",
    "appleStory.explore_data(0, 2,True)"
   ]
  },
  {
   "cell_type": "markdown",
   "id": "eaf04ffe",
   "metadata": {},
   "source": [
    "## Aplicativos mais comuns por gênero"
   ]
  },
  {
   "cell_type": "code",
   "execution_count": 131,
   "id": "e883f55a",
   "metadata": {},
   "outputs": [
    {
     "name": "stdout",
     "output_type": "stream",
     "text": [
      "Games : 58.16263190564867\n",
      "Entertainment : 7.883302296710118\n",
      "Photo & Video : 4.9658597144630665\n",
      "Education : 3.662321539416512\n",
      "Social Networking : 3.2898820608317814\n",
      "Shopping : 2.60707635009311\n",
      "Utilities : 2.5139664804469275\n",
      "Sports : 2.1415270018621975\n",
      "Music : 2.0484171322160147\n",
      "Health & Fitness : 2.0173805090006205\n",
      "Productivity : 1.7380509000620732\n",
      "Lifestyle : 1.5828677839851024\n",
      "News : 1.3345747982619491\n",
      "Travel : 1.2414649286157666\n",
      "Finance : 1.1173184357541899\n",
      "Weather : 0.8690254500310366\n",
      "Food & Drink : 0.8069522036002483\n",
      "Reference : 0.5586592178770949\n",
      "Business : 0.5276225946617008\n",
      "Book : 0.4345127250155183\n",
      "Navigation : 0.186219739292365\n",
      "Medical : 0.186219739292365\n",
      "Catalogs : 0.12414649286157665\n"
     ]
    }
   ],
   "source": [
    "appleStory.display_table(-5)"
   ]
  },
  {
   "cell_type": "markdown",
   "id": "56351df5",
   "metadata": {},
   "source": [
    "Podemos ver que entre os aplicativos gratuitos em inglês, mais da metade (58,16%) são jogos. Os aplicativos de entretenimento estão perto de 8%, seguidos pelos aplicativos de foto e vídeo, que estão perto de 5%. Apenas 3,66% dos aplicativos são projetados para educação, seguidos por aplicativos de redes sociais que representam 3,29% dos aplicativos em nosso conjunto de dados.\n",
    "\n",
    "A impressão geral é que a App Store (pelo menos a parte que contém aplicativos gratuitos em inglês) é dominada por aplicativos que são projetados para diversão (jogos, entretenimento, foto e vídeo, redes sociais, esportes, música etc.), enquanto aplicativos com práticas propósitos (educação, compras, serviços públicos, produtividade, estilo de vida, etc.) são mais raros. No entanto, o fato de os aplicativos divertidos serem os mais numerosos também não implica que eles também tenham o maior número de usuários – a demanda pode não ser a mesma da oferta.\n",
    "\n",
    "Vamos continuar examinando as colunas Genres e Category do conjunto de dados do Google Play (duas colunas que parecem estar relacionadas)."
   ]
  },
  {
   "cell_type": "code",
   "execution_count": 130,
   "id": "4c416067",
   "metadata": {},
   "outputs": [
    {
     "name": "stdout",
     "output_type": "stream",
     "text": [
      "FAMILY : 18.907942238267147\n",
      "GAME : 9.724729241877256\n",
      "TOOLS : 8.461191335740072\n",
      "BUSINESS : 4.591606498194946\n",
      "LIFESTYLE : 3.9034296028880866\n",
      "PRODUCTIVITY : 3.892148014440433\n",
      "FINANCE : 3.7003610108303246\n",
      "MEDICAL : 3.531137184115524\n",
      "SPORTS : 3.395758122743682\n",
      "PERSONALIZATION : 3.3167870036101084\n",
      "COMMUNICATION : 3.2378158844765346\n",
      "HEALTH_AND_FITNESS : 3.0798736462093865\n",
      "PHOTOGRAPHY : 2.944494584837545\n",
      "NEWS_AND_MAGAZINES : 2.7978339350180503\n",
      "SOCIAL : 2.6624548736462095\n",
      "TRAVEL_AND_LOCAL : 2.33528880866426\n",
      "SHOPPING : 2.2450361010830324\n",
      "BOOKS_AND_REFERENCE : 2.1435018050541514\n",
      "DATING : 1.861462093862816\n",
      "VIDEO_PLAYERS : 1.7937725631768955\n",
      "MAPS_AND_NAVIGATION : 1.3989169675090252\n",
      "FOOD_AND_DRINK : 1.2409747292418771\n",
      "EDUCATION : 1.1620036101083033\n",
      "ENTERTAINMENT : 0.9589350180505415\n",
      "LIBRARIES_AND_DEMO : 0.9363718411552346\n",
      "AUTO_AND_VEHICLES : 0.9250902527075812\n",
      "HOUSE_AND_HOME : 0.8235559566787004\n",
      "WEATHER : 0.8009927797833934\n",
      "EVENTS : 0.7107400722021661\n",
      "PARENTING : 0.6543321299638989\n",
      "ART_AND_DESIGN : 0.6430505415162455\n",
      "COMICS : 0.6204873646209386\n",
      "BEAUTY : 0.5979241877256317\n"
     ]
    }
   ],
   "source": [
    "playStory.display_table(1)"
   ]
  },
  {
   "cell_type": "markdown",
   "id": "decd16da",
   "metadata": {},
   "source": [
    "O cenário parece significativamente diferente no Google Play: não há muitos aplicativos projetados para diversão e parece que um bom número de aplicativos é projetado para fins práticos (família, ferramentas, negócios, estilo de vida, produtividade etc.). No entanto, se investigarmos mais a fundo, podemos ver que a categoria família (que responde por quase 19% dos aplicativos) significa principalmente jogos para crianças.\n",
    "\n",
    "\n",
    "\n",
    "\n",
    "\n",
    "[![img](https://s3.amazonaws.com/dq-content/350/py1m8_family.png)](https://play.google.com/store/apps/category/FAMILY?hl=en)\n",
    "\n",
    "\n",
    "Mesmo assim, aplicativos práticos parecem ter uma representação melhor no Google Play em comparação com a App Store. Esta imagem também é confirmada pela tabela de frequências que vemos para a coluna `Genres`:"
   ]
  },
  {
   "cell_type": "code",
   "execution_count": 133,
   "id": "514a6feb",
   "metadata": {},
   "outputs": [
    {
     "name": "stdout",
     "output_type": "stream",
     "text": [
      "Tools : 8.449909747292418\n",
      "Entertainment : 6.069494584837545\n",
      "Education : 5.347472924187725\n",
      "Business : 4.591606498194946\n",
      "Productivity : 3.892148014440433\n",
      "Lifestyle : 3.892148014440433\n",
      "Finance : 3.7003610108303246\n",
      "Medical : 3.531137184115524\n",
      "Sports : 3.463447653429603\n",
      "Personalization : 3.3167870036101084\n",
      "Communication : 3.2378158844765346\n",
      "Action : 3.1024368231046933\n",
      "Health & Fitness : 3.0798736462093865\n",
      "Photography : 2.944494584837545\n",
      "News & Magazines : 2.7978339350180503\n",
      "Social : 2.6624548736462095\n",
      "Travel & Local : 2.3240072202166067\n",
      "Shopping : 2.2450361010830324\n",
      "Books & Reference : 2.1435018050541514\n",
      "Simulation : 2.0419675090252705\n",
      "Dating : 1.861462093862816\n",
      "Arcade : 1.8501805054151623\n",
      "Video Players & Editors : 1.7712093862815883\n",
      "Casual : 1.7599277978339352\n",
      "Maps & Navigation : 1.3989169675090252\n",
      "Food & Drink : 1.2409747292418771\n",
      "Puzzle : 1.128158844765343\n",
      "Racing : 0.9927797833935018\n",
      "Role Playing : 0.9363718411552346\n",
      "Libraries & Demo : 0.9363718411552346\n",
      "Auto & Vehicles : 0.9250902527075812\n",
      "Strategy : 0.9138086642599278\n",
      "House & Home : 0.8235559566787004\n",
      "Weather : 0.8009927797833934\n",
      "Events : 0.7107400722021661\n",
      "Adventure : 0.6768953068592057\n",
      "Comics : 0.6092057761732852\n",
      "Beauty : 0.5979241877256317\n",
      "Art & Design : 0.5979241877256317\n",
      "Parenting : 0.4963898916967509\n",
      "Card : 0.45126353790613716\n",
      "Casino : 0.42870036101083037\n",
      "Trivia : 0.41741877256317694\n",
      "Educational;Education : 0.39485559566787\n",
      "Board : 0.3835740072202166\n",
      "Educational : 0.3722924187725632\n",
      "Education;Education : 0.33844765342960287\n",
      "Word : 0.2594765342960289\n",
      "Casual;Pretend Play : 0.236913357400722\n",
      "Music : 0.2030685920577617\n",
      "Racing;Action & Adventure : 0.16922382671480143\n",
      "Puzzle;Brain Games : 0.16922382671480143\n",
      "Entertainment;Music & Video : 0.16922382671480143\n",
      "Casual;Brain Games : 0.13537906137184114\n",
      "Casual;Action & Adventure : 0.13537906137184114\n",
      "Arcade;Action & Adventure : 0.12409747292418773\n",
      "Action;Action & Adventure : 0.10153429602888085\n",
      "Educational;Pretend Play : 0.09025270758122744\n",
      "Simulation;Action & Adventure : 0.078971119133574\n",
      "Parenting;Education : 0.078971119133574\n",
      "Entertainment;Brain Games : 0.078971119133574\n",
      "Board;Brain Games : 0.078971119133574\n",
      "Parenting;Music & Video : 0.06768953068592057\n",
      "Educational;Brain Games : 0.06768953068592057\n",
      "Casual;Creativity : 0.06768953068592057\n",
      "Art & Design;Creativity : 0.06768953068592057\n",
      "Education;Pretend Play : 0.056407942238267145\n",
      "Role Playing;Pretend Play : 0.04512635379061372\n",
      "Education;Creativity : 0.04512635379061372\n",
      "Role Playing;Action & Adventure : 0.033844765342960284\n",
      "Puzzle;Action & Adventure : 0.033844765342960284\n",
      "Entertainment;Creativity : 0.033844765342960284\n",
      "Entertainment;Action & Adventure : 0.033844765342960284\n",
      "Educational;Creativity : 0.033844765342960284\n",
      "Educational;Action & Adventure : 0.033844765342960284\n",
      "Education;Music & Video : 0.033844765342960284\n",
      "Education;Brain Games : 0.033844765342960284\n",
      "Education;Action & Adventure : 0.033844765342960284\n",
      "Adventure;Action & Adventure : 0.033844765342960284\n",
      "Video Players & Editors;Music & Video : 0.02256317689530686\n",
      "Sports;Action & Adventure : 0.02256317689530686\n",
      "Simulation;Pretend Play : 0.02256317689530686\n",
      "Puzzle;Creativity : 0.02256317689530686\n",
      "Music;Music & Video : 0.02256317689530686\n",
      "Entertainment;Pretend Play : 0.02256317689530686\n",
      "Casual;Education : 0.02256317689530686\n",
      "Board;Action & Adventure : 0.02256317689530686\n",
      "Video Players & Editors;Creativity : 0.01128158844765343\n",
      "Trivia;Education : 0.01128158844765343\n",
      "Travel & Local;Action & Adventure : 0.01128158844765343\n",
      "Tools;Education : 0.01128158844765343\n",
      "Strategy;Education : 0.01128158844765343\n",
      "Strategy;Creativity : 0.01128158844765343\n",
      "Strategy;Action & Adventure : 0.01128158844765343\n",
      "Simulation;Education : 0.01128158844765343\n",
      "Role Playing;Brain Games : 0.01128158844765343\n",
      "Racing;Pretend Play : 0.01128158844765343\n",
      "Puzzle;Education : 0.01128158844765343\n",
      "Parenting;Brain Games : 0.01128158844765343\n",
      "Music & Audio;Music & Video : 0.01128158844765343\n",
      "Lifestyle;Pretend Play : 0.01128158844765343\n",
      "Lifestyle;Education : 0.01128158844765343\n",
      "Health & Fitness;Education : 0.01128158844765343\n",
      "Health & Fitness;Action & Adventure : 0.01128158844765343\n",
      "Entertainment;Education : 0.01128158844765343\n",
      "Communication;Creativity : 0.01128158844765343\n",
      "Comics;Creativity : 0.01128158844765343\n",
      "Casual;Music & Video : 0.01128158844765343\n",
      "Card;Action & Adventure : 0.01128158844765343\n",
      "Books & Reference;Education : 0.01128158844765343\n",
      "Art & Design;Pretend Play : 0.01128158844765343\n",
      "Art & Design;Action & Adventure : 0.01128158844765343\n",
      "Arcade;Pretend Play : 0.01128158844765343\n",
      "Adventure;Education : 0.01128158844765343\n"
     ]
    }
   ],
   "source": [
    "playStory.display_table(-4)"
   ]
  },
  {
   "cell_type": "markdown",
   "id": "ee84badd",
   "metadata": {},
   "source": [
    "A diferença entre as colunas Gêneros e Categoria não é muito clara, mas uma coisa que podemos notar é que a coluna Gêneros é muito mais granular (tem mais categorias). No momento, estamos apenas procurando uma visão geral, então trabalharemos apenas com a coluna 'Categoria' daqui para frente.\n",
    "\n",
    "Até este ponto, descobrimos que a App Store é dominada por aplicativos projetados para diversão, enquanto o Google Play mostra um cenário mais equilibrado de aplicativos práticos e divertidos. Agora gostaríamos de ter uma ideia sobre o tipo de aplicativo que tem mais usuários."
   ]
  },
  {
   "cell_type": "markdown",
   "id": "8c5e1a5b",
   "metadata": {},
   "source": [
    "## Aplicativos mais populares por gênero na App Store"
   ]
  },
  {
   "cell_type": "markdown",
   "id": "facafd61",
   "metadata": {},
   "source": [
    "Uma maneira de descobrir quais gêneros são os mais populares (têm mais usuários) é calcular o número médio de instalações para cada gênero de aplicativo. Para o conjunto de dados do Google Play, podemos encontrar essas informações na coluna Instalações, mas para o conjunto de dados da App Store, essas informações estão ausentes. Como solução alternativa, usaremos o número total de avaliações de usuários como proxy, que podemos encontrar no aplicativo rating_count_tot.\n",
    "\n",
    "Abaixo, calculamos o número médio de avaliações de usuários por gênero de aplicativo na App Store:"
   ]
  },
  {
   "cell_type": "code",
   "execution_count": 140,
   "id": "c20f7931",
   "metadata": {},
   "outputs": [
    {
     "name": "stdout",
     "output_type": "stream",
     "text": [
      "Social Networking : 71548.34905660378\n",
      "Photo & Video : 28441.54375\n",
      "Games : 22788.6696905016\n",
      "Music : 57326.530303030304\n",
      "Reference : 74942.11111111111\n",
      "Health & Fitness : 23298.015384615384\n",
      "Weather : 52279.892857142855\n",
      "Utilities : 18684.456790123455\n",
      "Travel : 28243.8\n",
      "Shopping : 26919.690476190477\n",
      "News : 21248.023255813954\n",
      "Navigation : 86090.33333333333\n",
      "Lifestyle : 16485.764705882353\n",
      "Entertainment : 14029.830708661417\n",
      "Food & Drink : 33333.92307692308\n",
      "Sports : 23008.898550724636\n",
      "Book : 39758.5\n",
      "Finance : 31467.944444444445\n",
      "Education : 7003.983050847458\n",
      "Productivity : 21028.410714285714\n",
      "Business : 7491.117647058823\n",
      "Catalogs : 4004.0\n",
      "Medical : 612.0\n"
     ]
    }
   ],
   "source": [
    "genres_appleStory = appleStory.freq_table(-5)\n",
    "\n",
    "for genre in genres_appleStory:\n",
    "    total = 0\n",
    "    len_genre = 0\n",
    "    for app in appleStory.dataSet:\n",
    "        genre_app = app[-5]\n",
    "        if genre_app == genre:            \n",
    "            n_ratings = float(app[5])\n",
    "            total += n_ratings\n",
    "            len_genre += 1\n",
    "    avg_n_ratings = total / len_genre\n",
    "    print(genre, ':', avg_n_ratings)"
   ]
  },
  {
   "cell_type": "markdown",
   "id": "9fc0ef22",
   "metadata": {},
   "source": [
    "Em média, os aplicativos de navegação têm o maior número de comentários de usuários, mas esse número é fortemente influenciado pelo Waze e pelo Google Maps, que têm cerca de meio milhão de comentários de usuários juntos:\n",
    "\n"
   ]
  },
  {
   "cell_type": "code",
   "execution_count": 141,
   "id": "9d718d0c",
   "metadata": {},
   "outputs": [
    {
     "name": "stdout",
     "output_type": "stream",
     "text": [
      "Waze - GPS Navigation, Maps & Real-time Traffic : 345046\n",
      "Google Maps - Navigation & Transit : 154911\n",
      "Geocaching® : 12811\n",
      "CoPilot GPS – Car Navigation & Offline Maps : 3582\n",
      "ImmobilienScout24: Real Estate Search in Germany : 187\n",
      "Railway Route Search : 5\n"
     ]
    }
   ],
   "source": [
    "for app in appleStory.dataSet:\n",
    "    if app[-5] == 'Navigation':\n",
    "        print(app[1], ':', app[5]) # print name and number of ratings"
   ]
  },
  {
   "cell_type": "markdown",
   "id": "a1986210",
   "metadata": {},
   "source": [
    "O mesmo padrão se aplica a aplicativos de redes sociais, onde o número médio é fortemente influenciado por alguns gigantes como Facebook, Pinterest, Skype, etc. O mesmo se aplica a aplicativos de música, onde alguns grandes players como Pandora, Spotify e Shazam influenciam fortemente o número médio.\n",
    "\n",
    "Nosso objetivo é encontrar gêneros populares, mas aplicativos de navegação, redes sociais ou música podem parecer mais populares do que realmente são. O número médio de classificações parece ser distorcido por muito poucos aplicativos que têm centenas de milhares de classificações de usuários, enquanto os outros aplicativos podem ter dificuldades para ultrapassar o limite de 10.000. Poderíamos obter uma imagem melhor removendo esses aplicativos extremamente populares para cada gênero e depois retrabalhando as médias, mas deixaremos esse nível de detalhe para mais tarde.\n",
    "\n",
    "Os aplicativos de referência têm 74.942 classificações de usuários em média, mas na verdade são a Bíblia e o Dictionary.com que distorcem a classificação média:"
   ]
  },
  {
   "cell_type": "code",
   "execution_count": 142,
   "id": "3493d5b0",
   "metadata": {},
   "outputs": [
    {
     "name": "stdout",
     "output_type": "stream",
     "text": [
      "Bible : 985920\n",
      "Dictionary.com Dictionary & Thesaurus : 200047\n",
      "Dictionary.com Dictionary & Thesaurus for iPad : 54175\n",
      "Google Translate : 26786\n",
      "Muslim Pro: Ramadan 2017 Prayer Times, Azan, Quran : 18418\n",
      "New Furniture Mods - Pocket Wiki & Game Tools for Minecraft PC Edition : 17588\n",
      "Merriam-Webster Dictionary : 16849\n",
      "Night Sky : 12122\n",
      "City Maps for Minecraft PE - The Best Maps for Minecraft Pocket Edition (MCPE) : 8535\n",
      "LUCKY BLOCK MOD ™ for Minecraft PC Edition - The Best Pocket Wiki & Mods Installer Tools : 4693\n",
      "GUNS MODS for Minecraft PC Edition - Mods Tools : 1497\n",
      "Guides for Pokémon GO - Pokemon GO News and Cheats : 826\n",
      "WWDC : 762\n",
      "Horror Maps for Minecraft PE - Download The Scariest Maps for Minecraft Pocket Edition (MCPE) Free : 718\n",
      "VPN Express : 14\n",
      "Real Bike Traffic Rider Virtual Reality Glasses : 8\n",
      "教えて!goo : 0\n",
      "Jishokun-Japanese English Dictionary & Translator : 0\n"
     ]
    }
   ],
   "source": [
    "for app in appleStory.dataSet:\n",
    "    if app[-5] == 'Reference':\n",
    "        print(app[1], ':', app[5])"
   ]
  },
  {
   "cell_type": "markdown",
   "id": "5ab11c87",
   "metadata": {},
   "source": [
    "No entanto, este nicho parece mostrar algum potencial. Uma coisa que poderíamos fazer é pegar outro livro popular e transformá-lo em um aplicativo onde poderíamos adicionar recursos diferentes além da versão bruta do livro. Isso pode incluir citações diárias do livro, uma versão em áudio do livro, questionários sobre o livro etc. Além disso, também podemos incorporar um dicionário no aplicativo, para que os usuários não precisem sair do aplicativo para procurar até palavras em um aplicativo externo.\n",
    "\n",
    "Essa ideia parece se encaixar bem com o fato de que a App Store é dominada por aplicativos para diversão. Isso sugere que o mercado pode estar um pouco saturado com aplicativos para diversão, o que significa que um aplicativo prático pode ter mais chance de se destacar entre o grande número de aplicativos na App Store.\n",
    "\n",
    "Outros gêneros que parecem populares incluem clima, livro, comida e bebida ou finanças. O gênero livro parece se sobrepor um pouco à ideia do aplicativo que descrevemos acima, mas os outros gêneros não nos parecem muito interessantes:\n",
    "\n",
    "- Aplicativos de clima — as pessoas geralmente não passam muito tempo no aplicativo e as chances de lucrar com os anúncios no aplicativo são baixas. Além disso, obter dados meteorológicos confiáveis ​​​​ao vivo pode exigir que conectemos nossos aplicativos a APIs não gratuitas.\n",
    "\n",
    "- Comida e bebida — os exemplos aqui incluem Starbucks, Dunkin' Donuts, McDonald's, etc. Portanto, criar um aplicativo popular de comida e bebida requer culinária real e um serviço de entrega, que está fora do escopo de nossa empresa.\n",
    "\n",
    "- Aplicativos financeiros — esses aplicativos envolvem serviços bancários, pagamento de contas, transferência de dinheiro etc. Criar um aplicativo financeiro requer conhecimento de domínio e não queremos contratar um especialista em finanças apenas para criar um aplicativo.\n",
    "\n",
    "Agora vamos analisar um pouco o mercado do Google Play."
   ]
  },
  {
   "cell_type": "markdown",
   "id": "467b2195",
   "metadata": {},
   "source": [
    "## Aplicativos mais populares por gênero no Google Play"
   ]
  },
  {
   "cell_type": "markdown",
   "id": "52f494ca",
   "metadata": {},
   "source": [
    "Para o mercado do Google Play, na verdade temos dados sobre o número de instalações, então podemos ter uma visão mais clara sobre a popularidade do gênero. No entanto, os números de instalação não parecem precisos o suficiente - podemos ver que a maioria dos valores é aberta (100+, 1.000+, 5.000+, etc.):"
   ]
  },
  {
   "cell_type": "code",
   "execution_count": 146,
   "id": "aeff36d2",
   "metadata": {},
   "outputs": [
    {
     "name": "stdout",
     "output_type": "stream",
     "text": [
      "1,000,000+ : 15.726534296028879\n",
      "100,000+ : 11.552346570397113\n",
      "10,000,000+ : 10.548285198555957\n",
      "10,000+ : 10.198555956678701\n",
      "1,000+ : 8.393501805054152\n",
      "100+ : 6.915613718411552\n",
      "5,000,000+ : 6.825361010830325\n",
      "500,000+ : 5.561823104693141\n",
      "50,000+ : 4.7721119133574\n",
      "5,000+ : 4.512635379061372\n",
      "10+ : 3.5424187725631766\n",
      "500+ : 3.2490974729241873\n",
      "50,000,000+ : 2.3014440433213\n",
      "100,000,000+ : 2.1322202166064983\n",
      "50+ : 1.917870036101083\n",
      "5+ : 0.78971119133574\n",
      "1+ : 0.5076714801444043\n",
      "500,000,000+ : 0.2707581227436823\n",
      "1,000,000,000+ : 0.22563176895306858\n",
      "0+ : 0.04512635379061372\n",
      "0 : 0.01128158844765343\n"
     ]
    }
   ],
   "source": [
    "playStory.display_table(5)"
   ]
  },
  {
   "cell_type": "markdown",
   "id": "8b790fb5",
   "metadata": {},
   "source": [
    "Um problema com esses dados é que não são precisos. Por exemplo, não sabemos se um aplicativo com mais de 100.000 instalações tem 100.000 instalações, 200.000 ou 350.000. No entanto, não precisamos de dados muito precisos para nossos propósitos - queremos apenas ter uma ideia de quais gêneros de aplicativos atraem mais usuários e não precisamos de precisão perfeita em relação ao número de usuários.\n",
    "\n",
    "Vamos deixar os números como estão, o que significa que vamos considerar que um aplicativo com mais de 100.000 instalações possui 100.000 instalações e um aplicativo com mais de 1.000.000 instalações possui 1.000.000 instalações e assim por diante.\n",
    "\n",
    "Para realizar cálculos, no entanto, precisaremos converter cada número de instalação para `float` — isso significa que precisamos remover as vírgulas e os caracteres de adição, caso contrário a conversão falhará e gerará um erro. Faremos isso diretamente no loop abaixo, onde também calculamos o número médio de instalações para cada gênero "
   ]
  },
  {
   "cell_type": "code",
   "execution_count": 147,
   "id": "8bbc1afd",
   "metadata": {},
   "outputs": [
    {
     "name": "stdout",
     "output_type": "stream",
     "text": [
      "ART_AND_DESIGN : 1986335.0877192982\n",
      "AUTO_AND_VEHICLES : 647317.8170731707\n",
      "BEAUTY : 513151.88679245283\n",
      "BOOKS_AND_REFERENCE : 8767811.894736841\n",
      "BUSINESS : 1712290.1474201474\n",
      "COMICS : 817657.2727272727\n",
      "COMMUNICATION : 38456119.167247385\n",
      "DATING : 854028.8303030303\n",
      "EDUCATION : 1833495.145631068\n",
      "ENTERTAINMENT : 11640705.88235294\n",
      "EVENTS : 253542.22222222222\n",
      "FINANCE : 1387692.475609756\n",
      "FOOD_AND_DRINK : 1924897.7363636363\n",
      "HEALTH_AND_FITNESS : 4188821.9853479853\n",
      "HOUSE_AND_HOME : 1331540.5616438356\n",
      "LIBRARIES_AND_DEMO : 638503.734939759\n",
      "LIFESTYLE : 1437816.2687861272\n",
      "GAME : 15588015.603248259\n",
      "FAMILY : 3695641.8198090694\n",
      "MEDICAL : 120550.61980830671\n",
      "SOCIAL : 23253652.127118643\n",
      "SHOPPING : 7036877.311557789\n",
      "PHOTOGRAPHY : 17840110.40229885\n",
      "SPORTS : 3638640.1428571427\n",
      "TRAVEL_AND_LOCAL : 13984077.710144928\n",
      "TOOLS : 10801391.298666667\n",
      "PERSONALIZATION : 5201482.6122448975\n",
      "PRODUCTIVITY : 16787331.344927534\n",
      "PARENTING : 542603.6206896552\n",
      "WEATHER : 5074486.197183099\n",
      "VIDEO_PLAYERS : 24727872.452830188\n",
      "NEWS_AND_MAGAZINES : 9549178.467741935\n",
      "MAPS_AND_NAVIGATION : 4056941.7741935486\n"
     ]
    }
   ],
   "source": [
    "categories_playStory = playStory.freq_table(1)\n",
    "\n",
    "for category in categories_playStory:\n",
    "    total = 0\n",
    "    len_category = 0\n",
    "    for app in playStory.dataSet:\n",
    "        category_app = app[1]\n",
    "        if category_app == category:            \n",
    "            n_installs = app[5]\n",
    "            n_installs = n_installs.replace(',', '')\n",
    "            n_installs = n_installs.replace('+', '')\n",
    "            total += float(n_installs)\n",
    "            len_category += 1\n",
    "    avg_n_installs = total / len_category\n",
    "    print(category, ':', avg_n_installs)"
   ]
  },
  {
   "cell_type": "markdown",
   "id": "636ae58a",
   "metadata": {},
   "source": [
    "Em média, os aplicativos de comunicação têm mais instalações: 38.456.119. Esse número é fortemente distorcido por alguns aplicativos com mais de um bilhão de instalações (WhatsApp, Facebook Messenger, Skype, Google Chrome, Gmail e Hangouts) e alguns outros com mais de 100 e 500 milhões de instalações:"
   ]
  },
  {
   "cell_type": "code",
   "execution_count": 148,
   "id": "d2eb8b3e",
   "metadata": {},
   "outputs": [
    {
     "name": "stdout",
     "output_type": "stream",
     "text": [
      "WhatsApp Messenger : 1,000,000,000+\n",
      "imo beta free calls and text : 100,000,000+\n",
      "Android Messages : 100,000,000+\n",
      "Google Duo - High Quality Video Calls : 500,000,000+\n",
      "Messenger – Text and Video Chat for Free : 1,000,000,000+\n",
      "imo free video calls and chat : 500,000,000+\n",
      "Skype - free IM & video calls : 1,000,000,000+\n",
      "Who : 100,000,000+\n",
      "GO SMS Pro - Messenger, Free Themes, Emoji : 100,000,000+\n",
      "LINE: Free Calls & Messages : 500,000,000+\n",
      "Google Chrome: Fast & Secure : 1,000,000,000+\n",
      "Firefox Browser fast & private : 100,000,000+\n",
      "UC Browser - Fast Download Private & Secure : 500,000,000+\n",
      "Gmail : 1,000,000,000+\n",
      "Hangouts : 1,000,000,000+\n",
      "Messenger Lite: Free Calls & Messages : 100,000,000+\n",
      "Kik : 100,000,000+\n",
      "KakaoTalk: Free Calls & Text : 100,000,000+\n",
      "Opera Mini - fast web browser : 100,000,000+\n",
      "Opera Browser: Fast and Secure : 100,000,000+\n",
      "Telegram : 100,000,000+\n",
      "Truecaller: Caller ID, SMS spam blocking & Dialer : 100,000,000+\n",
      "UC Browser Mini -Tiny Fast Private & Secure : 100,000,000+\n",
      "Viber Messenger : 500,000,000+\n",
      "WeChat : 100,000,000+\n",
      "Yahoo Mail – Stay Organized : 100,000,000+\n",
      "BBM - Free Calls & Messages : 100,000,000+\n"
     ]
    }
   ],
   "source": [
    "for app in playStory.dataSet:\n",
    "    if app[1] == 'COMMUNICATION' and (app[5] == '1,000,000,000+'\n",
    "                                      or app[5] == '500,000,000+'\n",
    "                                      or app[5] == '100,000,000+'):\n",
    "        print(app[0], ':', app[5])"
   ]
  },
  {
   "cell_type": "markdown",
   "id": "1e44ddac",
   "metadata": {},
   "source": [
    "Se removêssemos todos os aplicativos de comunicação com mais de 100 milhões de instalações, a média seria reduzida cerca de dez vezes:"
   ]
  },
  {
   "cell_type": "code",
   "execution_count": 150,
   "id": "de6157e7",
   "metadata": {},
   "outputs": [
    {
     "data": {
      "text/plain": [
       "3603485.3884615386"
      ]
     },
     "execution_count": 150,
     "metadata": {},
     "output_type": "execute_result"
    }
   ],
   "source": [
    "under_100_m = []\n",
    "\n",
    "for app in playStory.dataSet:\n",
    "    n_installs = app[5]\n",
    "    n_installs = n_installs.replace(',', '')\n",
    "    n_installs = n_installs.replace('+', '')\n",
    "    if (app[1] == 'COMMUNICATION') and (float(n_installs) < 100000000):\n",
    "        under_100_m.append(float(n_installs))\n",
    "        \n",
    "sum(under_100_m) / len(under_100_m)"
   ]
  },
  {
   "cell_type": "markdown",
   "id": "31fe1799",
   "metadata": {},
   "source": [
    "Vemos o mesmo padrão para a categoria de players de vídeo, que é a segunda colocada com 24.727.872 instalações. O mercado é dominado por aplicativos como Youtube, Google Play Movies & TV ou MX Player. O padrão se repete para aplicativos sociais (onde temos gigantes como Facebook, Instagram, Google+, etc.), aplicativos de fotografia (Google Fotos e outros editores de fotos populares) ou aplicativos de produtividade (Microsoft Word, Dropbox, Google Calendar, Evernote, etc.) .).\n",
    "\n",
    "Novamente, a principal preocupação é que esses gêneros de aplicativos possam parecer mais populares do que realmente são. Além disso, esses nichos parecem ser dominados por alguns gigantes com os quais é difícil competir.\n",
    "\n",
    "O gênero de jogo parece bastante popular, mas anteriormente descobrimos que essa parte do mercado parece um pouco saturada, então gostaríamos de sugerir uma recomendação de aplicativo diferente, se possível.\n",
    "\n",
    "Os livros e o gênero de referência também parecem bastante populares, com um número médio de instalações de 8.767.811. É interessante explorar isso com mais profundidade, pois descobrimos que esse gênero tem potencial para funcionar bem na App Store, e nosso objetivo é recomendar um gênero de aplicativo que mostre potencial para ser lucrativo tanto na App Store quanto no Google Play.\n",
    "\n",
    "Vamos dar uma olhada em alguns dos aplicativos desse gênero e seu número de instalações:"
   ]
  },
  {
   "cell_type": "code",
   "execution_count": 151,
   "id": "278630be",
   "metadata": {},
   "outputs": [
    {
     "name": "stdout",
     "output_type": "stream",
     "text": [
      "E-Book Read - Read Book for free : 50,000+\n",
      "Download free book with green book : 100,000+\n",
      "Wikipedia : 10,000,000+\n",
      "Cool Reader : 10,000,000+\n",
      "Free Panda Radio Music : 100,000+\n",
      "Book store : 1,000,000+\n",
      "FBReader: Favorite Book Reader : 10,000,000+\n",
      "English Grammar Complete Handbook : 500,000+\n",
      "Free Books - Spirit Fanfiction and Stories : 1,000,000+\n",
      "Google Play Books : 1,000,000,000+\n",
      "AlReader -any text book reader : 5,000,000+\n",
      "Offline English Dictionary : 100,000+\n",
      "Offline: English to Tagalog Dictionary : 500,000+\n",
      "FamilySearch Tree : 1,000,000+\n",
      "Cloud of Books : 1,000,000+\n",
      "Recipes of Prophetic Medicine for free : 500,000+\n",
      "ReadEra – free ebook reader : 1,000,000+\n",
      "Anonymous caller detection : 10,000+\n",
      "Ebook Reader : 5,000,000+\n",
      "Litnet - E-books : 100,000+\n",
      "Read books online : 5,000,000+\n",
      "English to Urdu Dictionary : 500,000+\n",
      "eBoox: book reader fb2 epub zip : 1,000,000+\n",
      "English Persian Dictionary : 500,000+\n",
      "Flybook : 500,000+\n",
      "All Maths Formulas : 1,000,000+\n",
      "Ancestry : 5,000,000+\n",
      "HTC Help : 10,000,000+\n",
      "English translation from Bengali : 100,000+\n",
      "Pdf Book Download - Read Pdf Book : 100,000+\n",
      "Free Book Reader : 100,000+\n",
      "eBoox new: Reader for fb2 epub zip books : 50,000+\n",
      "Only 30 days in English, the guideline is guaranteed : 500,000+\n",
      "Moon+ Reader : 10,000,000+\n",
      "SH-02J Owner's Manual (Android 8.0) : 50,000+\n",
      "English-Myanmar Dictionary : 1,000,000+\n",
      "Golden Dictionary (EN-AR) : 1,000,000+\n",
      "All Language Translator Free : 1,000,000+\n",
      "Azpen eReader : 500,000+\n",
      "URBANO V 02 instruction manual : 100,000+\n",
      "Bible : 100,000,000+\n",
      "C Programs and Reference : 50,000+\n",
      "C Offline Tutorial : 1,000+\n",
      "C Programs Handbook : 50,000+\n",
      "Amazon Kindle : 100,000,000+\n",
      "Aab e Hayat Full Novel : 100,000+\n",
      "Aldiko Book Reader : 10,000,000+\n",
      "Google I/O 2018 : 500,000+\n",
      "R Language Reference Guide : 10,000+\n",
      "Learn R Programming Full : 5,000+\n",
      "R Programing Offline Tutorial : 1,000+\n",
      "Guide for R Programming : 5+\n",
      "Learn R Programming : 10+\n",
      "R Quick Reference Big Data : 1,000+\n",
      "V Made : 100,000+\n",
      "Wattpad 📖 Free Books : 100,000,000+\n",
      "Dictionary - WordWeb : 5,000,000+\n",
      "Guide (for X-MEN) : 100,000+\n",
      "AC Air condition Troubleshoot,Repair,Maintenance : 5,000+\n",
      "AE Bulletins : 1,000+\n",
      "Ae Allah na Dai (Rasa) : 10,000+\n",
      "50000 Free eBooks & Free AudioBooks : 5,000,000+\n",
      "Ag PhD Field Guide : 10,000+\n",
      "Ag PhD Deficiencies : 10,000+\n",
      "Ag PhD Planting Population Calculator : 1,000+\n",
      "Ag PhD Soybean Diseases : 1,000+\n",
      "Fertilizer Removal By Crop : 50,000+\n",
      "A-J Media Vault : 50+\n",
      "Al-Quran (Free) : 10,000,000+\n",
      "Al Quran (Tafsir & by Word) : 500,000+\n",
      "Al Quran Indonesia : 10,000,000+\n",
      "Al'Quran Bahasa Indonesia : 10,000,000+\n",
      "Al Quran Al karim : 1,000,000+\n",
      "Al-Muhaffiz : 50,000+\n",
      "Al Quran : EAlim - Translations & MP3 Offline : 5,000,000+\n",
      "Al-Quran 30 Juz free copies : 500,000+\n",
      "Koran Read &MP3 30 Juz Offline : 1,000,000+\n",
      "Hafizi Quran 15 lines per page : 1,000,000+\n",
      "Quran for Android : 10,000,000+\n",
      "Surah Al-Waqiah : 100,000+\n",
      "Hisnul Al Muslim - Hisn Invocations & Adhkaar : 100,000+\n",
      "Satellite AR : 1,000,000+\n",
      "Audiobooks from Audible : 100,000,000+\n",
      "Kinot & Eichah for Tisha B'Av : 10,000+\n",
      "AW Tozer Devotionals - Daily : 5,000+\n",
      "Tozer Devotional -Series 1 : 1,000+\n",
      "The Pursuit of God : 1,000+\n",
      "AY Sing : 5,000+\n",
      "Ay Hasnain k Nana Milad Naat : 10,000+\n",
      "Ay Mohabbat Teri Khatir Novel : 10,000+\n",
      "Arizona Statutes, ARS (AZ Law) : 1,000+\n",
      "Oxford A-Z of English Usage : 1,000,000+\n",
      "BD Fishpedia : 1,000+\n",
      "BD All Sim Offer : 10,000+\n",
      "Youboox - Livres, BD et magazines : 500,000+\n",
      "B&H Kids AR : 10,000+\n",
      "B y H Niños ES : 5,000+\n",
      "Dictionary.com: Find Definitions for English Words : 10,000,000+\n",
      "English Dictionary - Offline : 10,000,000+\n",
      "Bible KJV : 5,000,000+\n",
      "Borneo Bible, BM Bible : 10,000+\n",
      "MOD Black for BM : 100+\n",
      "BM Box : 1,000+\n",
      "Anime Mod for BM : 100+\n",
      "NOOK: Read eBooks & Magazines : 10,000,000+\n",
      "NOOK Audiobooks : 500,000+\n",
      "NOOK App for NOOK Devices : 500,000+\n",
      "Browsery by Barnes & Noble : 5,000+\n",
      "bp e-store : 1,000+\n",
      "Brilliant Quotes: Life, Love, Family & Motivation : 1,000,000+\n",
      "BR Ambedkar Biography & Quotes : 10,000+\n",
      "BU Alsace : 100+\n",
      "Catholic La Bu Zo Kam : 500+\n",
      "Khrifa Hla Bu (Solfa) : 10+\n",
      "Kristian Hla Bu : 10,000+\n",
      "SA HLA BU : 1,000+\n",
      "Learn SAP BW : 500+\n",
      "Learn SAP BW on HANA : 500+\n",
      "CA Laws 2018 (California Laws and Codes) : 5,000+\n",
      "Bootable Methods(USB-CD-DVD) : 10,000+\n",
      "cloudLibrary : 100,000+\n",
      "SDA Collegiate Quarterly : 500+\n",
      "Sabbath School : 100,000+\n",
      "Cypress College Library : 100+\n",
      "Stats Royale for Clash Royale : 1,000,000+\n",
      "GATE 21 years CS Papers(2011-2018 Solved) : 50+\n",
      "Learn CT Scan Of Head : 5,000+\n",
      "Easy Cv maker 2018 : 10,000+\n",
      "How to Write CV : 100,000+\n",
      "CW Nuclear : 1,000+\n",
      "CY Spray nozzle : 10+\n",
      "BibleRead En Cy Zh Yue : 5+\n",
      "CZ-Help : 5+\n",
      "Modlitební knížka CZ : 500+\n",
      "Guide for DB Xenoverse : 10,000+\n",
      "Guide for DB Xenoverse 2 : 10,000+\n",
      "Guide for IMS DB : 10+\n",
      "DC HSEMA : 5,000+\n",
      "DC Public Library : 1,000+\n",
      "Painting Lulu DC Super Friends : 1,000+\n",
      "Dictionary : 10,000,000+\n",
      "Fix Error Google Playstore : 1,000+\n",
      "D. H. Lawrence Poems FREE : 1,000+\n",
      "Bilingual Dictionary Audio App : 5,000+\n",
      "DM Screen : 10,000+\n",
      "wikiHow: how to do anything : 1,000,000+\n",
      "Dr. Doug's Tips : 1,000+\n",
      "Bible du Semeur-BDS (French) : 50,000+\n",
      "La citadelle du musulman : 50,000+\n",
      "DV 2019 Entry Guide : 10,000+\n",
      "DV 2019 - EDV Photo & Form : 50,000+\n",
      "DV 2018 Winners Guide : 1,000+\n",
      "EB Annual Meetings : 1,000+\n",
      "EC - AP & Telangana : 5,000+\n",
      "TN Patta Citta & EC : 10,000+\n",
      "AP Stamps and Registration : 10,000+\n",
      "CompactiMa EC pH Calibration : 100+\n",
      "EGW Writings 2 : 100,000+\n",
      "EGW Writings : 1,000,000+\n",
      "Bible with EGW Comments : 100,000+\n",
      "My Little Pony AR Guide : 1,000,000+\n",
      "SDA Sabbath School Quarterly : 500,000+\n",
      "Duaa Ek Ibaadat : 5,000+\n",
      "Spanish English Translator : 10,000,000+\n",
      "Dictionary - Merriam-Webster : 10,000,000+\n",
      "JW Library : 10,000,000+\n",
      "Oxford Dictionary of English : Free : 10,000,000+\n",
      "English Hindi Dictionary : 10,000,000+\n",
      "English to Hindi Dictionary : 5,000,000+\n",
      "EP Research Service : 1,000+\n",
      "Hymnes et Louanges : 100,000+\n",
      "EU Charter : 1,000+\n",
      "EU Data Protection : 1,000+\n",
      "EU IP Codes : 100+\n",
      "EW PDF : 5+\n",
      "BakaReader EX : 100,000+\n",
      "EZ Quran : 50,000+\n",
      "FA Part 1 & 2 Past Papers Solved Free – Offline : 5,000+\n",
      "La Fe de Jesus : 1,000+\n",
      "La Fe de Jesús : 500+\n",
      "Le Fe de Jesus : 500+\n",
      "Florida - Pocket Brainbook : 1,000+\n",
      "Florida Statutes (FL Code) : 1,000+\n",
      "English To Shona Dictionary : 10,000+\n",
      "Greek Bible FP (Audio) : 1,000+\n",
      "Golden Dictionary (FR-AR) : 500,000+\n",
      "Fanfic-FR : 5,000+\n",
      "Bulgarian French Dictionary Fr : 10,000+\n",
      "Chemin (fr) : 1,000+\n",
      "The SCP Foundation DB fr nn5n : 1,000+\n"
     ]
    }
   ],
   "source": [
    "for app in playStory.dataSet:\n",
    "    if app[1] == 'BOOKS_AND_REFERENCE':\n",
    "        print(app[0], ':', app[5])"
   ]
  },
  {
   "cell_type": "markdown",
   "id": "01d3a4b5",
   "metadata": {},
   "source": [
    "O gênero livro e referência inclui uma variedade de aplicativos: software para processamento e leitura de e-books, várias coleções de bibliotecas, dicionários, tutoriais sobre programação ou linguagens, etc. Parece que ainda há um pequeno número de aplicativos extremamente populares que distorcem a média:"
   ]
  },
  {
   "cell_type": "code",
   "execution_count": 152,
   "id": "583d3622",
   "metadata": {},
   "outputs": [
    {
     "name": "stdout",
     "output_type": "stream",
     "text": [
      "Google Play Books : 1,000,000,000+\n",
      "Bible : 100,000,000+\n",
      "Amazon Kindle : 100,000,000+\n",
      "Wattpad 📖 Free Books : 100,000,000+\n",
      "Audiobooks from Audible : 100,000,000+\n"
     ]
    }
   ],
   "source": [
    "for app in playStory.dataSet:\n",
    "    if app[1] == 'BOOKS_AND_REFERENCE' and (app[5] == '1,000,000,000+'\n",
    "                                            or app[5] == '500,000,000+'\n",
    "                                            or app[5] == '100,000,000+'):\n",
    "        print(app[0], ':', app[5])"
   ]
  },
  {
   "cell_type": "markdown",
   "id": "dfbb094b",
   "metadata": {},
   "source": [
    "No entanto, parece que existem apenas alguns aplicativos muito populares, então esse mercado ainda mostra potencial. Vamos tentar obter algumas ideias de aplicativos com base nos tipos de aplicativos que estão em algum lugar no meio em termos de popularidade (entre 1.000.000 e 100.000.000 de downloads):"
   ]
  },
  {
   "cell_type": "code",
   "execution_count": 153,
   "id": "4ba7999d",
   "metadata": {},
   "outputs": [
    {
     "name": "stdout",
     "output_type": "stream",
     "text": [
      "Wikipedia : 10,000,000+\n",
      "Cool Reader : 10,000,000+\n",
      "Book store : 1,000,000+\n",
      "FBReader: Favorite Book Reader : 10,000,000+\n",
      "Free Books - Spirit Fanfiction and Stories : 1,000,000+\n",
      "AlReader -any text book reader : 5,000,000+\n",
      "FamilySearch Tree : 1,000,000+\n",
      "Cloud of Books : 1,000,000+\n",
      "ReadEra – free ebook reader : 1,000,000+\n",
      "Ebook Reader : 5,000,000+\n",
      "Read books online : 5,000,000+\n",
      "eBoox: book reader fb2 epub zip : 1,000,000+\n",
      "All Maths Formulas : 1,000,000+\n",
      "Ancestry : 5,000,000+\n",
      "HTC Help : 10,000,000+\n",
      "Moon+ Reader : 10,000,000+\n",
      "English-Myanmar Dictionary : 1,000,000+\n",
      "Golden Dictionary (EN-AR) : 1,000,000+\n",
      "All Language Translator Free : 1,000,000+\n",
      "Aldiko Book Reader : 10,000,000+\n",
      "Dictionary - WordWeb : 5,000,000+\n",
      "50000 Free eBooks & Free AudioBooks : 5,000,000+\n",
      "Al-Quran (Free) : 10,000,000+\n",
      "Al Quran Indonesia : 10,000,000+\n",
      "Al'Quran Bahasa Indonesia : 10,000,000+\n",
      "Al Quran Al karim : 1,000,000+\n",
      "Al Quran : EAlim - Translations & MP3 Offline : 5,000,000+\n",
      "Koran Read &MP3 30 Juz Offline : 1,000,000+\n",
      "Hafizi Quran 15 lines per page : 1,000,000+\n",
      "Quran for Android : 10,000,000+\n",
      "Satellite AR : 1,000,000+\n",
      "Oxford A-Z of English Usage : 1,000,000+\n",
      "Dictionary.com: Find Definitions for English Words : 10,000,000+\n",
      "English Dictionary - Offline : 10,000,000+\n",
      "Bible KJV : 5,000,000+\n",
      "NOOK: Read eBooks & Magazines : 10,000,000+\n",
      "Brilliant Quotes: Life, Love, Family & Motivation : 1,000,000+\n",
      "Stats Royale for Clash Royale : 1,000,000+\n",
      "Dictionary : 10,000,000+\n",
      "wikiHow: how to do anything : 1,000,000+\n",
      "EGW Writings : 1,000,000+\n",
      "My Little Pony AR Guide : 1,000,000+\n",
      "Spanish English Translator : 10,000,000+\n",
      "Dictionary - Merriam-Webster : 10,000,000+\n",
      "JW Library : 10,000,000+\n",
      "Oxford Dictionary of English : Free : 10,000,000+\n",
      "English Hindi Dictionary : 10,000,000+\n",
      "English to Hindi Dictionary : 5,000,000+\n"
     ]
    }
   ],
   "source": [
    "for app in playStory.dataSet:\n",
    "    if app[1] == 'BOOKS_AND_REFERENCE' and (app[5] == '1,000,000+'\n",
    "                                            or app[5] == '5,000,000+'\n",
    "                                            or app[5] == '10,000,000+'\n",
    "                                            or app[5] == '50,000,000+'):\n",
    "        print(app[0], ':', app[5])"
   ]
  },
  {
   "cell_type": "markdown",
   "id": "d19e8761",
   "metadata": {},
   "source": [
    "Esse nicho parece ser dominado por softwares de processamento e leitura de e-books, além de várias coleções de bibliotecas e dicionários, portanto, provavelmente não é uma boa ideia criar aplicativos semelhantes, pois haverá uma concorrência significativa.\n",
    "\n",
    "Também notamos que existem alguns aplicativos criados em torno do livro Alcorão, o que sugere que criar um aplicativo em torno de um livro popular pode ser lucrativo. Parece que pegar um livro popular (talvez um livro mais recente) e transformá-lo em um aplicativo pode ser lucrativo para os mercados do Google Play e da App Store.\n",
    "\n",
    "No entanto, parece que o mercado já está cheio de bibliotecas, então precisamos adicionar alguns recursos especiais além da versão bruta do livro. Isso pode incluir citações diárias do livro, uma versão em áudio do livro, testes sobre o livro, um fórum onde as pessoas podem discutir o livro, etc."
   ]
  },
  {
   "cell_type": "markdown",
   "id": "e268f9d9",
   "metadata": {},
   "source": [
    "## Conclusões \n",
    "\n",
    "Neste projeto, analisamos dados sobre os aplicativos móveis da App Store e Google Play com o objetivo de recomendar um perfil de aplicativo que possa ser lucrativo para ambos os mercados.\n",
    "\n",
    "Concluímos que pegar um livro popular (talvez um livro mais recente) e transformá-lo em um aplicativo pode ser lucrativo para os mercados do Google Play e da App Store. Os mercados já estão cheios de bibliotecas, então precisamos adicionar alguns recursos especiais além da versão bruta do livro. Isso pode incluir citações diárias do livro, uma versão em áudio do livro, testes sobre o livro, um fórum onde as pessoas podem discutir o livro, etc."
   ]
  }
 ],
 "metadata": {
  "kernelspec": {
   "display_name": "Python 3 (ipykernel)",
   "language": "python",
   "name": "python3"
  },
  "language_info": {
   "codemirror_mode": {
    "name": "ipython",
    "version": 3
   },
   "file_extension": ".py",
   "mimetype": "text/x-python",
   "name": "python",
   "nbconvert_exporter": "python",
   "pygments_lexer": "ipython3",
   "version": "3.8.10"
  }
 },
 "nbformat": 4,
 "nbformat_minor": 5
}
