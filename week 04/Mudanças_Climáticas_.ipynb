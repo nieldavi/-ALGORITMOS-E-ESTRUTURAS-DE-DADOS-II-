{
  "nbformat": 4,
  "nbformat_minor": 0,
  "metadata": {
    "colab": {
      "provenance": []
    },
    "kernelspec": {
      "name": "python3",
      "display_name": "Python 3"
    },
    "language_info": {
      "name": "python"
    }
  },
  "cells": [
    {
      "cell_type": "markdown",
      "source": [
        "# Criando consultas rápidas em um CSV"
      ],
      "metadata": {
        "id": "lheveh12MjYD"
      }
    },
    {
      "cell_type": "markdown",
      "source": [
        "\n",
        "Esse projeto consiste numa adaptação do projeto guaido do DataQuest `Building Fast Queries on a CSV`.\n",
        "\n",
        "Então vamos importar as bliotecas necessárias para construir esse projeto."
      ],
      "metadata": {
        "id": "UibLxAmeM3sq"
      }
    },
    {
      "cell_type": "code",
      "execution_count": 1,
      "metadata": {
        "id": "RhEQTOuLKN1G"
      },
      "outputs": [],
      "source": [
        "import csv\n",
        "from time import time\n",
        "import random"
      ]
    },
    {
      "cell_type": "code",
      "source": [
        "from google.colab import drive\n",
        "drive.mount('/content/drive')"
      ],
      "metadata": {
        "colab": {
          "base_uri": "https://localhost:8080/"
        },
        "id": "P6vkezpwYsEH",
        "outputId": "b2f2e422-5610-4922-96c4-097a1678e969"
      },
      "execution_count": 5,
      "outputs": [
        {
          "output_type": "stream",
          "name": "stdout",
          "text": [
            "Drive already mounted at /content/drive; to attempt to forcibly remount, call drive.mount(\"/content/drive\", force_remount=True).\n"
          ]
        }
      ]
    },
    {
      "cell_type": "code",
      "source": [
        "file= \"/content/drive/MyDrive/Eng. Comp.  UFRN/2022.2/EDII/Tarefa 05/the-reddit-climate-change-dataset-comments.csv\""
      ],
      "metadata": {
        "id": "t7nzJ2vOY3d8"
      },
      "execution_count": 6,
      "outputs": []
    },
    {
      "cell_type": "markdown",
      "source": [
        "# Classe Clima"
      ],
      "metadata": {
        "id": "1YiHEtshaP_2"
      }
    },
    {
      "cell_type": "markdown",
      "source": [
        "Vamos comecar  implementando uma classe para representar o clima. Ele obtém o nome do arquivo CSV como argumento e o lê em self.header e self.rows."
      ],
      "metadata": {
        "id": "-x2AxzwFafFb"
      }
    },
    {
      "cell_type": "code",
      "source": [
        "#para ser incoporado na def _inint\n",
        "def row_sentiment(row):\n",
        "  return row[8]\n",
        "\n",
        "class Climate():\n",
        "    def __init__(self, csv_filename):\n",
        "      '''Função que inicializa a classe climate'''\n",
        "      with open(csv_filename) as f: \n",
        "        reader = csv.reader(f)\n",
        "        rows = list(reader)\n",
        "      # separando o cabelhaço da classe climente do resto do arquivo csv lido \n",
        "      self.header = rows[0]        \n",
        "      self.rows = rows[1:]\n",
        "\n",
        "      #precisamos converter a rows[8] (sentiment) em float\n",
        "      self.dict_s = {}\n",
        "      for row in self.rows:\n",
        "        if row[8] != '':      \n",
        "          row[8] = float(row[8])                  \n",
        "        else:\n",
        "          row[8] = 0.0\n",
        "        self.dict_s[int(row[9])] = row\n",
        "      self.sentiment_to_rows = sorted(self.rows, key=row_sentiment)\n",
        "\n",
        "      self.id_to_row = {}                        \n",
        "      for row in self.rows:                       \n",
        "        self.id_to_row[row[1]] = row\n",
        "        \n",
        "    def get_row_id_search(self, id_search):\n",
        "        '''\n",
        "         Essa função procura em todas as linhas da lista  na coluna um id alvo e\n",
        "         retorna a linha caso o id seja encontrado ou None caso o id_search não seja achado\n",
        "        '''\n",
        "        for row in self.rows:                 \n",
        "            if row[1] == id_search:\n",
        "              return row\n",
        "        return None \n",
        "    \n",
        "    def get_row_in_dic(self, id_search):\n",
        "      '''\n",
        "      Essa função procura no dicionario o id passado com parametro e retorna a linha se o id foi encontato. Caso id não\n",
        "      seja encontrado a função retorna NONE\n",
        "      '''\n",
        "      if  id_search in self.id_to_row:\n",
        "        return self.id_to_row[id_search]\n",
        "      else:\n",
        "        return None\n",
        "    \n",
        "    def mensagem_range(self, sentiment, rs=0):\n",
        "      '''\n",
        "      Essa função realiza uma busca binária  para o valor sentiment passado  e retorna o index encontrado. Se não encontrar \n",
        "      o sentiment o algoritmo retornara -1\n",
        "      '''\n",
        "      r_start = rs\n",
        "      r_end = len(self.sentiment_to_rows) - 1\n",
        "\n",
        "      while r_start < r_end:\n",
        "        range_middle = (r_end + r_start) // 2\n",
        "        value = self.sentiment_to_rows[range_middle][8]\n",
        "        if value == sentiment:\n",
        "          return range_middle\n",
        "        elif value < sentiment:\n",
        "          r_start = range_middle + 1\n",
        "        else:\n",
        "          r_end = range_middle - 1\n",
        "      if self.sentiment_to_rows[r_start][8] != sentiment:\n",
        "        return -1\n",
        "      return r_start\n",
        "\n",
        "      \n",
        "\n",
        "\n",
        "    "
      ],
      "metadata": {
        "id": "5Vlbpp0taLh3"
      },
      "execution_count": 8,
      "outputs": []
    },
    {
      "cell_type": "code",
      "source": [
        "climate = Climate(file)"
      ],
      "metadata": {
        "id": "t3Lu7jlQAvSv"
      },
      "execution_count": 9,
      "outputs": []
    },
    {
      "cell_type": "code",
      "source": [
        "print(climate.header)\n",
        "for i in climate.rows[0:5]:\n",
        "  print(i)"
      ],
      "metadata": {
        "colab": {
          "base_uri": "https://localhost:8080/"
        },
        "id": "QX8sWn9tFcoi",
        "outputId": "992801f0-afef-4a7b-9306-8266234c9240"
      },
      "execution_count": 10,
      "outputs": [
        {
          "output_type": "stream",
          "name": "stdout",
          "text": [
            "['type', 'id', 'subreddit.id', 'subreddit.name', 'subreddit.nsfw', 'created_utc', 'permalink', 'body', 'sentiment', 'score']\n",
            "['comment', 'imlddn9', '2qh3l', 'news', 'false', '1661990368', 'https://old.reddit.com/r/news/comments/x2cszk/us_life_expectancy_down_for_secondstraight_year/imlddn9/', 'Yeah but what the above commenter is saying is their base doesn’t want any of that. They detest all of those things, even the small gradual changes. Investing in nuclear energy is a tacit acknowledgement of man made climate change. Any acknowledgement or concession and they will be primaried out in a minute', 0.5719, '2']\n",
            "['comment', 'imldbeh', '2qn7b', 'ohio', 'false', '1661990340', 'https://old.reddit.com/r/Ohio/comments/x2awnp/state_government_may_soon_kill_a_solar_project_in/imldbeh/', \"Any comparison of efficiency between solar and fossil fuels is nonsensical at best and intentionally misleading at worst. In no universe is light -&gt; photovoltaic cell -&gt; electricity less efficient than light -&gt; entire food chain -&gt; biomass -&gt; decomposition -&gt; millions of years of geothermal heat and pressure -&gt; extraction -&gt; refining and transport -&gt; burning -&gt; turbine generator -&gt; electricity.\\n\\nUgly? More ugly than power lines, roads, apartment buildings, tractors, fences, etc etc etc? You're simply not used to it. Also, who cares? Sure, millions of people died in the displacement from sea rise, famines cause by climate change, and wars from resource scarcity, but thank God we didn't have to look at those solar panels occasionally.\\n\\nOffshore fracking? Fucks sake. Have you already forgotten the deepwater horizon disaster? Think about the damage that did to the gulf coast, add a few million barrels of highly toxic fracking fluid to the mix, and there you have our next major environmental disaster courtesy of offshore fracking. But oh man, those solar panels sure are ugly.\\n\\nStop repeating the lies fed to you by the people getting rich from fossil fuels, who couldn't care less about you or your descendants as long as they get theirs. We can deal with the less environmentally friendly aspects of solar power. We cannot deal with the consequences of continuing to pump carbon into the atmosphere. Y'all need to grow the fuck up and stop whining about the view.\", -0.9877, '2']\n",
            "['comment', 'imldado', '2qhma', 'newzealand', 'false', '1661990327', 'https://old.reddit.com/r/newzealand/comments/x28xci/long_rant_pessimistic_asf_and_feel_like_were/imldado/', \"I'm honestly waiting for climate change and the impacts of that to kick some fucking sense into people. But who am I kidding itll still just be more of the poor suffering while the rich claim victim hood for handouts while letting us all starve. Its honestly hard some days to not just give up, and I truly wonder if and when anything will ever actually be done.\", -0.1143, '1']\n",
            "['comment', 'imld6cb', '2qi09', 'sacramento', 'false', '1661990278', 'https://old.reddit.com/r/Sacramento/comments/x2ruqy/hey_guyz_this_is_a_tough_one_why_do_you_think/imld6cb/', \"Not just Sacramento. It's actually happening all over the world. Climate change is real, believe it or not.\", 0.0, '4']\n",
            "['comment', 'imld0kj', '2qh1i', 'askreddit', 'false', '1661990206', 'https://old.reddit.com/r/AskReddit/comments/x2fj3g/whats_a_controversial_topic_no_one_wants_to/imld0kj/', 'I think climate change tends to get some people riled up. \\n\\nWhen I was part of a debate club, they loved throwing that subject in. One case we had to discuss was whether or not it was okay to fly if it pollutes the air. A friend of mine on the team got very worked up because he loves to travel. At the end, we actually had to make up because our disagreement about flying got very heated.', 0.6634, '1']\n"
          ]
        }
      ]
    },
    {
      "cell_type": "code",
      "source": [
        "climate.rows[1][8]"
      ],
      "metadata": {
        "colab": {
          "base_uri": "https://localhost:8080/"
        },
        "id": "apvPCo5hZPbR",
        "outputId": "fa898cfc-50e6-4e2a-92fd-b48efbfa8eb7"
      },
      "execution_count": 11,
      "outputs": [
        {
          "output_type": "execute_result",
          "data": {
            "text/plain": [
              "-0.9877"
            ]
          },
          "metadata": {},
          "execution_count": 11
        }
      ]
    },
    {
      "cell_type": "code",
      "source": [
        "climate.get_row_id_search('imlddn9')"
      ],
      "metadata": {
        "colab": {
          "base_uri": "https://localhost:8080/"
        },
        "id": "oO8c1TEkUlC8",
        "outputId": "d0484d3c-75e3-45e3-9c0a-087f92999748"
      },
      "execution_count": 12,
      "outputs": [
        {
          "output_type": "execute_result",
          "data": {
            "text/plain": [
              "['comment',\n",
              " 'imlddn9',\n",
              " '2qh3l',\n",
              " 'news',\n",
              " 'false',\n",
              " '1661990368',\n",
              " 'https://old.reddit.com/r/news/comments/x2cszk/us_life_expectancy_down_for_secondstraight_year/imlddn9/',\n",
              " 'Yeah but what the above commenter is saying is their base doesn’t want any of that. They detest all of those things, even the small gradual changes. Investing in nuclear energy is a tacit acknowledgement of man made climate change. Any acknowledgement or concession and they will be primaried out in a minute',\n",
              " 0.5719,\n",
              " '2']"
            ]
          },
          "metadata": {},
          "execution_count": 12
        }
      ]
    },
    {
      "cell_type": "code",
      "source": [
        "climate.get_row_in_dic('imlddn9')"
      ],
      "metadata": {
        "colab": {
          "base_uri": "https://localhost:8080/"
        },
        "id": "lElnFekKddAw",
        "outputId": "cea1810c-7b23-4fbb-ba29-242b8bb12462"
      },
      "execution_count": 13,
      "outputs": [
        {
          "output_type": "execute_result",
          "data": {
            "text/plain": [
              "['comment',\n",
              " 'imlddn9',\n",
              " '2qh3l',\n",
              " 'news',\n",
              " 'false',\n",
              " '1661990368',\n",
              " 'https://old.reddit.com/r/news/comments/x2cszk/us_life_expectancy_down_for_secondstraight_year/imlddn9/',\n",
              " 'Yeah but what the above commenter is saying is their base doesn’t want any of that. They detest all of those things, even the small gradual changes. Investing in nuclear energy is a tacit acknowledgement of man made climate change. Any acknowledgement or concession and they will be primaried out in a minute',\n",
              " 0.5719,\n",
              " '2']"
            ]
          },
          "metadata": {},
          "execution_count": 13
        }
      ]
    }
  ]
}